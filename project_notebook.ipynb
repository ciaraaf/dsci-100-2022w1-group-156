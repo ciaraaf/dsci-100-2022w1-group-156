{
 "cells": [
  {
   "cell_type": "code",
   "execution_count": 23,
   "id": "f45fec82-435b-4bb3-ad0e-badd18380dc6",
   "metadata": {},
   "outputs": [],
   "source": [
    "library(tidyverse)\n",
    "library(testthat)\n",
    "library(digest)\n",
    "library(repr)\n",
    "library(tidymodels)\n",
    "options(repr.matrix.max.rows = 6)"
   ]
  },
  {
   "cell_type": "code",
   "execution_count": 7,
   "id": "5d20382f-32f1-4ee7-8629-841b81025400",
   "metadata": {},
   "outputs": [
    {
     "name": "stderr",
     "output_type": "stream",
     "text": [
      "\u001b[1m\u001b[22mNew names:\n",
      "\u001b[36m•\u001b[39m `` -> `...1`\n",
      "\u001b[1mRows: \u001b[22m\u001b[34m6866\u001b[39m \u001b[1mColumns: \u001b[22m\u001b[34m50\u001b[39m\n",
      "\u001b[36m──\u001b[39m \u001b[1mColumn specification\u001b[22m \u001b[36m────────────────────────────────────────────────────────\u001b[39m\n",
      "\u001b[1mDelimiter:\u001b[22m \",\"\n",
      "\u001b[31mchr\u001b[39m (16): tourney_id, tourney_name, surface, tourney_level, winner_seed, win...\n",
      "\u001b[32mdbl\u001b[39m (34): ...1, draw_size, tourney_date, match_num, winner_id, winner_ht, wi...\n",
      "\n",
      "\u001b[36mℹ\u001b[39m Use `spec()` to retrieve the full column specification for this data.\n",
      "\u001b[36mℹ\u001b[39m Specify the column types or set `show_col_types = FALSE` to quiet this message.\n"
     ]
    },
    {
     "data": {
      "text/html": [
       "<table class=\"dataframe\">\n",
       "<caption>A spec_tbl_df: 6866 × 50</caption>\n",
       "<thead>\n",
       "\t<tr><th scope=col>...1</th><th scope=col>tourney_id</th><th scope=col>tourney_name</th><th scope=col>surface</th><th scope=col>draw_size</th><th scope=col>tourney_level</th><th scope=col>tourney_date</th><th scope=col>match_num</th><th scope=col>winner_id</th><th scope=col>winner_seed</th><th scope=col>⋯</th><th scope=col>l_1stIn</th><th scope=col>l_1stWon</th><th scope=col>l_2ndWon</th><th scope=col>l_SvGms</th><th scope=col>l_bpSaved</th><th scope=col>l_bpFaced</th><th scope=col>winner_rank</th><th scope=col>winner_rank_points</th><th scope=col>loser_rank</th><th scope=col>loser_rank_points</th></tr>\n",
       "\t<tr><th scope=col>&lt;dbl&gt;</th><th scope=col>&lt;chr&gt;</th><th scope=col>&lt;chr&gt;</th><th scope=col>&lt;chr&gt;</th><th scope=col>&lt;dbl&gt;</th><th scope=col>&lt;chr&gt;</th><th scope=col>&lt;dbl&gt;</th><th scope=col>&lt;dbl&gt;</th><th scope=col>&lt;dbl&gt;</th><th scope=col>&lt;chr&gt;</th><th scope=col>⋯</th><th scope=col>&lt;dbl&gt;</th><th scope=col>&lt;dbl&gt;</th><th scope=col>&lt;dbl&gt;</th><th scope=col>&lt;dbl&gt;</th><th scope=col>&lt;dbl&gt;</th><th scope=col>&lt;dbl&gt;</th><th scope=col>&lt;dbl&gt;</th><th scope=col>&lt;dbl&gt;</th><th scope=col>&lt;dbl&gt;</th><th scope=col>&lt;dbl&gt;</th></tr>\n",
       "</thead>\n",
       "<tbody>\n",
       "\t<tr><td>0</td><td>2019-M020</td><td>Brisbane</td><td>Hard</td><td>32</td><td>A</td><td>20181231</td><td>300</td><td>105453</td><td>2</td><td>⋯</td><td>54</td><td>34</td><td>20</td><td>14</td><td>10</td><td>15</td><td> 9</td><td>3590</td><td> 16</td><td>1977</td></tr>\n",
       "\t<tr><td>1</td><td>2019-M020</td><td>Brisbane</td><td>Hard</td><td>32</td><td>A</td><td>20181231</td><td>299</td><td>106421</td><td>4</td><td>⋯</td><td>52</td><td>36</td><td> 7</td><td>10</td><td>10</td><td>13</td><td>16</td><td>1977</td><td>239</td><td> 200</td></tr>\n",
       "\t<tr><td>2</td><td>2019-M020</td><td>Brisbane</td><td>Hard</td><td>32</td><td>A</td><td>20181231</td><td>298</td><td>105453</td><td>2</td><td>⋯</td><td>27</td><td>15</td><td> 6</td><td> 8</td><td> 1</td><td> 5</td><td> 9</td><td>3590</td><td> 40</td><td>1050</td></tr>\n",
       "\t<tr><td>⋮</td><td>⋮</td><td>⋮</td><td>⋮</td><td>⋮</td><td>⋮</td><td>⋮</td><td>⋮</td><td>⋮</td><td>⋮</td><td>⋱</td><td>⋮</td><td>⋮</td><td>⋮</td><td>⋮</td><td>⋮</td><td>⋮</td><td>⋮</td><td>⋮</td><td>⋮</td><td>⋮</td></tr>\n",
       "\t<tr><td>2883</td><td>2017-M-DC-2017-WG-M-BEL-FRA-01</td><td>Davis Cup WG F: BEL vs FRA</td><td>Hard</td><td>4</td><td>D</td><td>20171124</td><td>2</td><td>104542</td><td>NA</td><td>⋯</td><td>54</td><td>30</td><td>12</td><td>12</td><td>5</td><td>11</td><td>15</td><td>2320</td><td>76</td><td> 667</td></tr>\n",
       "\t<tr><td>2884</td><td>2017-M-DC-2017-WG-M-BEL-FRA-01</td><td>Davis Cup WG F: BEL vs FRA</td><td>Hard</td><td>4</td><td>D</td><td>20171124</td><td>4</td><td>105676</td><td>NA</td><td>⋯</td><td>54</td><td>44</td><td>13</td><td>14</td><td>7</td><td>10</td><td> 7</td><td>3775</td><td>15</td><td>2320</td></tr>\n",
       "\t<tr><td>2885</td><td>2017-M-DC-2017-WG-M-BEL-FRA-01</td><td>Davis Cup WG F: BEL vs FRA</td><td>Hard</td><td>4</td><td>D</td><td>20171124</td><td>5</td><td>106298</td><td>NA</td><td>⋯</td><td>53</td><td>29</td><td>11</td><td>11</td><td>4</td><td>11</td><td>18</td><td>2235</td><td>76</td><td> 667</td></tr>\n",
       "</tbody>\n",
       "</table>\n"
      ],
      "text/latex": [
       "A spec\\_tbl\\_df: 6866 × 50\n",
       "\\begin{tabular}{lllllllllllllllllllll}\n",
       " ...1 & tourney\\_id & tourney\\_name & surface & draw\\_size & tourney\\_level & tourney\\_date & match\\_num & winner\\_id & winner\\_seed & ⋯ & l\\_1stIn & l\\_1stWon & l\\_2ndWon & l\\_SvGms & l\\_bpSaved & l\\_bpFaced & winner\\_rank & winner\\_rank\\_points & loser\\_rank & loser\\_rank\\_points\\\\\n",
       " <dbl> & <chr> & <chr> & <chr> & <dbl> & <chr> & <dbl> & <dbl> & <dbl> & <chr> & ⋯ & <dbl> & <dbl> & <dbl> & <dbl> & <dbl> & <dbl> & <dbl> & <dbl> & <dbl> & <dbl>\\\\\n",
       "\\hline\n",
       "\t 0 & 2019-M020 & Brisbane & Hard & 32 & A & 20181231 & 300 & 105453 & 2 & ⋯ & 54 & 34 & 20 & 14 & 10 & 15 &  9 & 3590 &  16 & 1977\\\\\n",
       "\t 1 & 2019-M020 & Brisbane & Hard & 32 & A & 20181231 & 299 & 106421 & 4 & ⋯ & 52 & 36 &  7 & 10 & 10 & 13 & 16 & 1977 & 239 &  200\\\\\n",
       "\t 2 & 2019-M020 & Brisbane & Hard & 32 & A & 20181231 & 298 & 105453 & 2 & ⋯ & 27 & 15 &  6 &  8 &  1 &  5 &  9 & 3590 &  40 & 1050\\\\\n",
       "\t ⋮ & ⋮ & ⋮ & ⋮ & ⋮ & ⋮ & ⋮ & ⋮ & ⋮ & ⋮ & ⋱ & ⋮ & ⋮ & ⋮ & ⋮ & ⋮ & ⋮ & ⋮ & ⋮ & ⋮ & ⋮\\\\\n",
       "\t 2883 & 2017-M-DC-2017-WG-M-BEL-FRA-01 & Davis Cup WG F: BEL vs FRA & Hard & 4 & D & 20171124 & 2 & 104542 & NA & ⋯ & 54 & 30 & 12 & 12 & 5 & 11 & 15 & 2320 & 76 &  667\\\\\n",
       "\t 2884 & 2017-M-DC-2017-WG-M-BEL-FRA-01 & Davis Cup WG F: BEL vs FRA & Hard & 4 & D & 20171124 & 4 & 105676 & NA & ⋯ & 54 & 44 & 13 & 14 & 7 & 10 &  7 & 3775 & 15 & 2320\\\\\n",
       "\t 2885 & 2017-M-DC-2017-WG-M-BEL-FRA-01 & Davis Cup WG F: BEL vs FRA & Hard & 4 & D & 20171124 & 5 & 106298 & NA & ⋯ & 53 & 29 & 11 & 11 & 4 & 11 & 18 & 2235 & 76 &  667\\\\\n",
       "\\end{tabular}\n"
      ],
      "text/markdown": [
       "\n",
       "A spec_tbl_df: 6866 × 50\n",
       "\n",
       "| ...1 &lt;dbl&gt; | tourney_id &lt;chr&gt; | tourney_name &lt;chr&gt; | surface &lt;chr&gt; | draw_size &lt;dbl&gt; | tourney_level &lt;chr&gt; | tourney_date &lt;dbl&gt; | match_num &lt;dbl&gt; | winner_id &lt;dbl&gt; | winner_seed &lt;chr&gt; | ⋯ ⋯ | l_1stIn &lt;dbl&gt; | l_1stWon &lt;dbl&gt; | l_2ndWon &lt;dbl&gt; | l_SvGms &lt;dbl&gt; | l_bpSaved &lt;dbl&gt; | l_bpFaced &lt;dbl&gt; | winner_rank &lt;dbl&gt; | winner_rank_points &lt;dbl&gt; | loser_rank &lt;dbl&gt; | loser_rank_points &lt;dbl&gt; |\n",
       "|---|---|---|---|---|---|---|---|---|---|---|---|---|---|---|---|---|---|---|---|---|\n",
       "| 0 | 2019-M020 | Brisbane | Hard | 32 | A | 20181231 | 300 | 105453 | 2 | ⋯ | 54 | 34 | 20 | 14 | 10 | 15 |  9 | 3590 |  16 | 1977 |\n",
       "| 1 | 2019-M020 | Brisbane | Hard | 32 | A | 20181231 | 299 | 106421 | 4 | ⋯ | 52 | 36 |  7 | 10 | 10 | 13 | 16 | 1977 | 239 |  200 |\n",
       "| 2 | 2019-M020 | Brisbane | Hard | 32 | A | 20181231 | 298 | 105453 | 2 | ⋯ | 27 | 15 |  6 |  8 |  1 |  5 |  9 | 3590 |  40 | 1050 |\n",
       "| ⋮ | ⋮ | ⋮ | ⋮ | ⋮ | ⋮ | ⋮ | ⋮ | ⋮ | ⋮ | ⋱ | ⋮ | ⋮ | ⋮ | ⋮ | ⋮ | ⋮ | ⋮ | ⋮ | ⋮ | ⋮ |\n",
       "| 2883 | 2017-M-DC-2017-WG-M-BEL-FRA-01 | Davis Cup WG F: BEL vs FRA | Hard | 4 | D | 20171124 | 2 | 104542 | NA | ⋯ | 54 | 30 | 12 | 12 | 5 | 11 | 15 | 2320 | 76 |  667 |\n",
       "| 2884 | 2017-M-DC-2017-WG-M-BEL-FRA-01 | Davis Cup WG F: BEL vs FRA | Hard | 4 | D | 20171124 | 4 | 105676 | NA | ⋯ | 54 | 44 | 13 | 14 | 7 | 10 |  7 | 3775 | 15 | 2320 |\n",
       "| 2885 | 2017-M-DC-2017-WG-M-BEL-FRA-01 | Davis Cup WG F: BEL vs FRA | Hard | 4 | D | 20171124 | 5 | 106298 | NA | ⋯ | 53 | 29 | 11 | 11 | 4 | 11 | 18 | 2235 | 76 |  667 |\n",
       "\n"
      ],
      "text/plain": [
       "     ...1 tourney_id                     tourney_name               surface\n",
       "1    0    2019-M020                      Brisbane                   Hard   \n",
       "2    1    2019-M020                      Brisbane                   Hard   \n",
       "3    2    2019-M020                      Brisbane                   Hard   \n",
       "⋮    ⋮    ⋮                              ⋮                          ⋮      \n",
       "6864 2883 2017-M-DC-2017-WG-M-BEL-FRA-01 Davis Cup WG F: BEL vs FRA Hard   \n",
       "6865 2884 2017-M-DC-2017-WG-M-BEL-FRA-01 Davis Cup WG F: BEL vs FRA Hard   \n",
       "6866 2885 2017-M-DC-2017-WG-M-BEL-FRA-01 Davis Cup WG F: BEL vs FRA Hard   \n",
       "     draw_size tourney_level tourney_date match_num winner_id winner_seed ⋯\n",
       "1    32        A             20181231     300       105453    2           ⋯\n",
       "2    32        A             20181231     299       106421    4           ⋯\n",
       "3    32        A             20181231     298       105453    2           ⋯\n",
       "⋮    ⋮         ⋮             ⋮            ⋮         ⋮         ⋮           ⋱\n",
       "6864 4         D             20171124     2         104542    NA          ⋯\n",
       "6865 4         D             20171124     4         105676    NA          ⋯\n",
       "6866 4         D             20171124     5         106298    NA          ⋯\n",
       "     l_1stIn l_1stWon l_2ndWon l_SvGms l_bpSaved l_bpFaced winner_rank\n",
       "1    54      34       20       14      10        15         9         \n",
       "2    52      36        7       10      10        13        16         \n",
       "3    27      15        6        8       1         5         9         \n",
       "⋮    ⋮       ⋮        ⋮        ⋮       ⋮         ⋮         ⋮          \n",
       "6864 54      30       12       12      5         11        15         \n",
       "6865 54      44       13       14      7         10         7         \n",
       "6866 53      29       11       11      4         11        18         \n",
       "     winner_rank_points loser_rank loser_rank_points\n",
       "1    3590                16        1977             \n",
       "2    1977               239         200             \n",
       "3    3590                40        1050             \n",
       "⋮    ⋮                  ⋮          ⋮                \n",
       "6864 2320               76          667             \n",
       "6865 3775               15         2320             \n",
       "6866 2235               76          667             "
      ]
     },
     "metadata": {},
     "output_type": "display_data"
    }
   ],
   "source": [
    "atp_data <- read_csv('Data/atp2017-2019.csv')\n",
    "atp_data"
   ]
  },
  {
   "cell_type": "code",
   "execution_count": 14,
   "id": "8a556f4a-f8d7-44b3-a6c8-f546a32caca5",
   "metadata": {},
   "outputs": [
    {
     "data": {
      "text/html": [
       "<table class=\"dataframe\">\n",
       "<caption>A tibble: 6866 × 17</caption>\n",
       "<thead>\n",
       "\t<tr><th scope=col>match_num</th><th scope=col>winner_id</th><th scope=col>winner_seed</th><th scope=col>winner_hand</th><th scope=col>winner_rank</th><th scope=col>winner_rank_points</th><th scope=col>w_ace</th><th scope=col>w_svpt</th><th scope=col>w_SvGms</th><th scope=col>loser_id</th><th scope=col>loser_seed</th><th scope=col>loser_hand</th><th scope=col>l_ace</th><th scope=col>l_svpt</th><th scope=col>l_SvGms</th><th scope=col>loser_rank</th><th scope=col>loser_rank_points</th></tr>\n",
       "\t<tr><th scope=col>&lt;dbl&gt;</th><th scope=col>&lt;dbl&gt;</th><th scope=col>&lt;chr&gt;</th><th scope=col>&lt;chr&gt;</th><th scope=col>&lt;dbl&gt;</th><th scope=col>&lt;dbl&gt;</th><th scope=col>&lt;dbl&gt;</th><th scope=col>&lt;dbl&gt;</th><th scope=col>&lt;dbl&gt;</th><th scope=col>&lt;dbl&gt;</th><th scope=col>&lt;chr&gt;</th><th scope=col>&lt;chr&gt;</th><th scope=col>&lt;dbl&gt;</th><th scope=col>&lt;dbl&gt;</th><th scope=col>&lt;dbl&gt;</th><th scope=col>&lt;dbl&gt;</th><th scope=col>&lt;dbl&gt;</th></tr>\n",
       "</thead>\n",
       "<tbody>\n",
       "\t<tr><td>300</td><td>105453</td><td>2</td><td>R</td><td> 9</td><td>3590</td><td> 3</td><td>77</td><td>13</td><td>106421</td><td>4 </td><td>R</td><td> 8</td><td>100</td><td>14</td><td> 16</td><td>1977</td></tr>\n",
       "\t<tr><td>299</td><td>106421</td><td>4</td><td>R</td><td>16</td><td>1977</td><td>10</td><td>52</td><td>10</td><td>104542</td><td>NA</td><td>R</td><td>17</td><td> 77</td><td>10</td><td>239</td><td> 200</td></tr>\n",
       "\t<tr><td>298</td><td>105453</td><td>2</td><td>R</td><td> 9</td><td>3590</td><td> 2</td><td>47</td><td> 8</td><td>104871</td><td>NA</td><td>R</td><td>10</td><td> 46</td><td> 8</td><td> 40</td><td>1050</td></tr>\n",
       "\t<tr><td>⋮</td><td>⋮</td><td>⋮</td><td>⋮</td><td>⋮</td><td>⋮</td><td>⋮</td><td>⋮</td><td>⋮</td><td>⋮</td><td>⋮</td><td>⋮</td><td>⋮</td><td>⋮</td><td>⋮</td><td>⋮</td><td>⋮</td></tr>\n",
       "\t<tr><td>2</td><td>104542</td><td>NA</td><td>R</td><td>15</td><td>2320</td><td>12</td><td> 64</td><td>12</td><td>104327</td><td>NA</td><td>R</td><td> 1</td><td>81</td><td>12</td><td>76</td><td> 667</td></tr>\n",
       "\t<tr><td>4</td><td>105676</td><td>NA</td><td>R</td><td> 7</td><td>3775</td><td> 1</td><td>122</td><td>15</td><td>104542</td><td>NA</td><td>R</td><td>10</td><td>88</td><td>14</td><td>15</td><td>2320</td></tr>\n",
       "\t<tr><td>5</td><td>106298</td><td>NA</td><td>R</td><td>18</td><td>2235</td><td> 7</td><td> 57</td><td>11</td><td>104327</td><td>NA</td><td>R</td><td> 1</td><td>87</td><td>11</td><td>76</td><td> 667</td></tr>\n",
       "</tbody>\n",
       "</table>\n"
      ],
      "text/latex": [
       "A tibble: 6866 × 17\n",
       "\\begin{tabular}{lllllllllllllllll}\n",
       " match\\_num & winner\\_id & winner\\_seed & winner\\_hand & winner\\_rank & winner\\_rank\\_points & w\\_ace & w\\_svpt & w\\_SvGms & loser\\_id & loser\\_seed & loser\\_hand & l\\_ace & l\\_svpt & l\\_SvGms & loser\\_rank & loser\\_rank\\_points\\\\\n",
       " <dbl> & <dbl> & <chr> & <chr> & <dbl> & <dbl> & <dbl> & <dbl> & <dbl> & <dbl> & <chr> & <chr> & <dbl> & <dbl> & <dbl> & <dbl> & <dbl>\\\\\n",
       "\\hline\n",
       "\t 300 & 105453 & 2 & R &  9 & 3590 &  3 & 77 & 13 & 106421 & 4  & R &  8 & 100 & 14 &  16 & 1977\\\\\n",
       "\t 299 & 106421 & 4 & R & 16 & 1977 & 10 & 52 & 10 & 104542 & NA & R & 17 &  77 & 10 & 239 &  200\\\\\n",
       "\t 298 & 105453 & 2 & R &  9 & 3590 &  2 & 47 &  8 & 104871 & NA & R & 10 &  46 &  8 &  40 & 1050\\\\\n",
       "\t ⋮ & ⋮ & ⋮ & ⋮ & ⋮ & ⋮ & ⋮ & ⋮ & ⋮ & ⋮ & ⋮ & ⋮ & ⋮ & ⋮ & ⋮ & ⋮ & ⋮\\\\\n",
       "\t 2 & 104542 & NA & R & 15 & 2320 & 12 &  64 & 12 & 104327 & NA & R &  1 & 81 & 12 & 76 &  667\\\\\n",
       "\t 4 & 105676 & NA & R &  7 & 3775 &  1 & 122 & 15 & 104542 & NA & R & 10 & 88 & 14 & 15 & 2320\\\\\n",
       "\t 5 & 106298 & NA & R & 18 & 2235 &  7 &  57 & 11 & 104327 & NA & R &  1 & 87 & 11 & 76 &  667\\\\\n",
       "\\end{tabular}\n"
      ],
      "text/markdown": [
       "\n",
       "A tibble: 6866 × 17\n",
       "\n",
       "| match_num &lt;dbl&gt; | winner_id &lt;dbl&gt; | winner_seed &lt;chr&gt; | winner_hand &lt;chr&gt; | winner_rank &lt;dbl&gt; | winner_rank_points &lt;dbl&gt; | w_ace &lt;dbl&gt; | w_svpt &lt;dbl&gt; | w_SvGms &lt;dbl&gt; | loser_id &lt;dbl&gt; | loser_seed &lt;chr&gt; | loser_hand &lt;chr&gt; | l_ace &lt;dbl&gt; | l_svpt &lt;dbl&gt; | l_SvGms &lt;dbl&gt; | loser_rank &lt;dbl&gt; | loser_rank_points &lt;dbl&gt; |\n",
       "|---|---|---|---|---|---|---|---|---|---|---|---|---|---|---|---|---|\n",
       "| 300 | 105453 | 2 | R |  9 | 3590 |  3 | 77 | 13 | 106421 | 4  | R |  8 | 100 | 14 |  16 | 1977 |\n",
       "| 299 | 106421 | 4 | R | 16 | 1977 | 10 | 52 | 10 | 104542 | NA | R | 17 |  77 | 10 | 239 |  200 |\n",
       "| 298 | 105453 | 2 | R |  9 | 3590 |  2 | 47 |  8 | 104871 | NA | R | 10 |  46 |  8 |  40 | 1050 |\n",
       "| ⋮ | ⋮ | ⋮ | ⋮ | ⋮ | ⋮ | ⋮ | ⋮ | ⋮ | ⋮ | ⋮ | ⋮ | ⋮ | ⋮ | ⋮ | ⋮ | ⋮ |\n",
       "| 2 | 104542 | NA | R | 15 | 2320 | 12 |  64 | 12 | 104327 | NA | R |  1 | 81 | 12 | 76 |  667 |\n",
       "| 4 | 105676 | NA | R |  7 | 3775 |  1 | 122 | 15 | 104542 | NA | R | 10 | 88 | 14 | 15 | 2320 |\n",
       "| 5 | 106298 | NA | R | 18 | 2235 |  7 |  57 | 11 | 104327 | NA | R |  1 | 87 | 11 | 76 |  667 |\n",
       "\n"
      ],
      "text/plain": [
       "     match_num winner_id winner_seed winner_hand winner_rank winner_rank_points\n",
       "1    300       105453    2           R            9          3590              \n",
       "2    299       106421    4           R           16          1977              \n",
       "3    298       105453    2           R            9          3590              \n",
       "⋮    ⋮         ⋮         ⋮           ⋮           ⋮           ⋮                 \n",
       "6864 2         104542    NA          R           15          2320              \n",
       "6865 4         105676    NA          R            7          3775              \n",
       "6866 5         106298    NA          R           18          2235              \n",
       "     w_ace w_svpt w_SvGms loser_id loser_seed loser_hand l_ace l_svpt l_SvGms\n",
       "1     3    77     13      106421   4          R           8    100    14     \n",
       "2    10    52     10      104542   NA         R          17     77    10     \n",
       "3     2    47      8      104871   NA         R          10     46     8     \n",
       "⋮    ⋮     ⋮      ⋮       ⋮        ⋮          ⋮          ⋮     ⋮      ⋮      \n",
       "6864 12     64    12      104327   NA         R           1    81     12     \n",
       "6865  1    122    15      104542   NA         R          10    88     14     \n",
       "6866  7     57    11      104327   NA         R           1    87     11     \n",
       "     loser_rank loser_rank_points\n",
       "1     16        1977             \n",
       "2    239         200             \n",
       "3     40        1050             \n",
       "⋮    ⋮          ⋮                \n",
       "6864 76          667             \n",
       "6865 15         2320             \n",
       "6866 76          667             "
      ]
     },
     "metadata": {},
     "output_type": "display_data"
    }
   ],
   "source": [
    "ace_data <- atp_data |>\n",
    "    select(match_num, winner_id, winner_seed, winner_hand, winner_rank, winner_rank_points, w_ace, w_svpt, w_SvGms, loser_id, loser_seed, loser_hand, l_ace, l_svpt, l_SvGms, loser_rank, loser_rank_points)\n",
    "ace_data"
   ]
  },
  {
   "cell_type": "markdown",
   "id": "500faa33-197e-4741-8255-a16268278064",
   "metadata": {},
   "source": [
    " Can the amount of aces in a match for a player be predicted by using only the history of that player, or does it depend on the opponent as well?"
   ]
  },
  {
   "cell_type": "code",
   "execution_count": 30,
   "id": "d9a126d7-4ba7-4e84-8307-608234538745",
   "metadata": {},
   "outputs": [
    {
     "data": {
      "text/html": [
       "<table class=\"dataframe\">\n",
       "<caption>A tibble: 255 × 2</caption>\n",
       "<thead>\n",
       "\t<tr><th scope=col>winner_id</th><th scope=col>w_svpt_avg</th></tr>\n",
       "\t<tr><th scope=col>&lt;dbl&gt;</th><th scope=col>&lt;dbl&gt;</th></tr>\n",
       "</thead>\n",
       "<tbody>\n",
       "\t<tr><td>100644</td><td>75.86957</td></tr>\n",
       "\t<tr><td>103333</td><td>90.25000</td></tr>\n",
       "\t<tr><td>103819</td><td>71.40769</td></tr>\n",
       "\t<tr><td>⋮</td><td>⋮</td></tr>\n",
       "\t<tr><td>200615</td><td>88.92308</td></tr>\n",
       "\t<tr><td>205734</td><td>85.00000</td></tr>\n",
       "\t<tr><td>206173</td><td>67.00000</td></tr>\n",
       "</tbody>\n",
       "</table>\n"
      ],
      "text/latex": [
       "A tibble: 255 × 2\n",
       "\\begin{tabular}{ll}\n",
       " winner\\_id & w\\_svpt\\_avg\\\\\n",
       " <dbl> & <dbl>\\\\\n",
       "\\hline\n",
       "\t 100644 & 75.86957\\\\\n",
       "\t 103333 & 90.25000\\\\\n",
       "\t 103819 & 71.40769\\\\\n",
       "\t ⋮ & ⋮\\\\\n",
       "\t 200615 & 88.92308\\\\\n",
       "\t 205734 & 85.00000\\\\\n",
       "\t 206173 & 67.00000\\\\\n",
       "\\end{tabular}\n"
      ],
      "text/markdown": [
       "\n",
       "A tibble: 255 × 2\n",
       "\n",
       "| winner_id &lt;dbl&gt; | w_svpt_avg &lt;dbl&gt; |\n",
       "|---|---|\n",
       "| 100644 | 75.86957 |\n",
       "| 103333 | 90.25000 |\n",
       "| 103819 | 71.40769 |\n",
       "| ⋮ | ⋮ |\n",
       "| 200615 | 88.92308 |\n",
       "| 205734 | 85.00000 |\n",
       "| 206173 | 67.00000 |\n",
       "\n"
      ],
      "text/plain": [
       "    winner_id w_svpt_avg\n",
       "1   100644    75.86957  \n",
       "2   103333    90.25000  \n",
       "3   103819    71.40769  \n",
       "⋮   ⋮         ⋮         \n",
       "253 200615    88.92308  \n",
       "254 205734    85.00000  \n",
       "255 206173    67.00000  "
      ]
     },
     "metadata": {},
     "output_type": "display_data"
    }
   ],
   "source": [
    "winner_history <- ace_data |>\n",
    "    group_by(winner_id) |>\n",
    "    summarize(w_svpt_avg = mean(w_svpt, na.rm = TRUE)) \n",
    "winner_history"
   ]
  },
  {
   "cell_type": "markdown",
   "id": "614061f7-fabb-4777-a23d-36e219a7cc27",
   "metadata": {},
   "source": [
    "Rank doesn't seem to be correlated with number of aces"
   ]
  },
  {
   "cell_type": "code",
   "execution_count": 28,
   "id": "10130ab5-b4d8-4c5e-a595-c1da0e74817a",
   "metadata": {},
   "outputs": [
    {
     "data": {
      "image/png": "[encoded data removed]",
      "text/plain": [
       "plot without title"
      ]
     },
     "metadata": {
      "image/png": {
       "height": 420,
       "width": 420
      }
     },
     "output_type": "display_data"
    }
   ],
   "source": [
    "aces_w_50 <- ace_data |>\n",
    "    sample_n(50)\n",
    "aces_w_50_plot <- aces_w_50 |>\n",
    "    ggplot(aes(x = winner_rank_points, y = w_ace)) +\n",
    "    geom_point() +\n",
    "    labs(x = 'Winner Rank Points', y = 'Winner Aces')\n",
    "aces_w_50_plot"
   ]
  },
  {
   "cell_type": "code",
   "execution_count": 31,
   "id": "eb89f85e-67ba-4eaf-880b-4c2761ff7dfa",
   "metadata": {},
   "outputs": [
    {
     "data": {
      "image/png": "[encoded data removed]",
      "text/plain": [
       "plot without title"
      ]
     },
     "metadata": {
      "image/png": {
       "height": 420,
       "width": 420
      }
     },
     "output_type": "display_data"
    }
   ],
   "source": [
    "aces_w_50 <- ace_data |>\n",
    "    sample_n(50)\n",
    "aces_w_50_plot_2 <- aces_w_50 |>\n",
    "    ggplot(aes(x = winner_rank_points - loser_rank_points, y = w_ace)) +\n",
    "    geom_point() +\n",
    "    labs(x = 'Winner - Loser Rank Points', y = 'Winner Aces')\n",
    "aces_w_50_plot_2"
   ]
  }
 ],
 "metadata": {
  "kernelspec": {
   "display_name": "R",
   "language": "R",
   "name": "ir"
  },
  "language_info": {
   "codemirror_mode": "r",
   "file_extension": ".r",
   "mimetype": "text/x-r-source",
   "name": "R",
   "pygments_lexer": "r",
   "version": "4.1.3"
  }
 },
 "nbformat": 4,
 "nbformat_minor": 5
}
